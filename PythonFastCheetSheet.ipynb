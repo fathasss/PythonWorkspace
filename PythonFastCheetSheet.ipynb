{
  "nbformat": 4,
  "nbformat_minor": 0,
  "metadata": {
    "colab": {
      "provenance": [],
      "mount_file_id": "1SiWZNiPE3oTQ-lUwbYtxdy7ROhFj-WNS",
      "authorship_tag": "ABX9TyPjl3HeMiD9MvY4bf+B96YL",
      "include_colab_link": true
    },
    "kernelspec": {
      "name": "python3",
      "display_name": "Python 3"
    },
    "language_info": {
      "name": "python"
    }
  },
  "cells": [
    {
      "cell_type": "markdown",
      "metadata": {
        "id": "view-in-github",
        "colab_type": "text"
      },
      "source": [
        "<a href=\"https://colab.research.google.com/github/fathasss/PythonWorkspace/blob/main/PythonFastCheetSheet.ipynb\" target=\"_parent\"><img src=\"https://colab.research.google.com/assets/colab-badge.svg\" alt=\"Open In Colab\"/></a>"
      ]
    },
    {
      "cell_type": "code",
      "execution_count": 37,
      "metadata": {
        "colab": {
          "base_uri": "https://localhost:8080/"
        },
        "id": "Z0Q9gutgYap4",
        "outputId": "a80a9aa4-4461-4aed-caae-2049d541904b"
      },
      "outputs": [
        {
          "output_type": "stream",
          "name": "stdout",
          "text": [
            "My name is Fatih HAS. Hello World.\n"
          ]
        }
      ],
      "source": [
        "#First App\n",
        "print(\"My name is Fatih HAS. Hello World.\")"
      ]
    },
    {
      "cell_type": "code",
      "source": [
        "#Python Functions\n",
        "def convertTurkishCharacter(key):\n",
        "  charactersEn = [\"i\",\"ö\",\"ü\",\"ş\",\"ğ\",\"İ\",\"Ö\",\"Ü\",\"Ş\",\"Ğ\"]\n",
        "  charactersTr = [\"i\",\"o\",\"u\",\"s\",\"g\",\"I\",\"O\",\"U\",\"S\",\"G\"]\n",
        "  for x in range(len(charactersEn)):\n",
        "    key = key.replace(charactersEn[x],charactersTr[x])\n",
        "\n",
        "  return key\n",
        "\n",
        "print(convertTurkishCharacter(\"FATİHFatih\"))\n"
      ],
      "metadata": {
        "colab": {
          "base_uri": "https://localhost:8080/"
        },
        "id": "yzRhv0mlcLct",
        "outputId": "c0257f54-71cb-4b3f-f401-132c6e6b4243"
      },
      "execution_count": 7,
      "outputs": [
        {
          "output_type": "stream",
          "name": "stdout",
          "text": [
            "FATIHFatih\n"
          ]
        }
      ]
    },
    {
      "cell_type": "code",
      "source": [
        "#Random Number\n",
        "import random\n",
        "\n",
        "\n",
        "print(random.randrange(1,10))\n",
        "#randrange ile belirtilene aralıklar arası sayı üretir.\n",
        "\n",
        "print(random.random())\n",
        "#random() tamamen rastgele tipte ve rastgele sayı üretir."
      ],
      "metadata": {
        "colab": {
          "base_uri": "https://localhost:8080/"
        },
        "id": "ySd_xZU9d57W",
        "outputId": "048306c4-79b9-40b2-9895-6f1240dc18a6"
      },
      "execution_count": 10,
      "outputs": [
        {
          "output_type": "stream",
          "name": "stdout",
          "text": [
            "7\n",
            "0.9904293148354969\n"
          ]
        }
      ]
    },
    {
      "cell_type": "code",
      "source": [
        "#in operator and not in\n",
        "txt = \"Fatih Has - Computer Engineer, Master Degree\"\n",
        "print(\"Has\" in txt) #contains\n",
        "print(\"FH\" not in txt) #not contains"
      ],
      "metadata": {
        "colab": {
          "base_uri": "https://localhost:8080/"
        },
        "id": "gzEkmniBf0Zt",
        "outputId": "b1fab26f-cc0a-48e6-a3a6-3449212c2b52"
      },
      "execution_count": 17,
      "outputs": [
        {
          "output_type": "stream",
          "name": "stdout",
          "text": [
            "True\n",
            "True\n"
          ]
        }
      ]
    },
    {
      "cell_type": "code",
      "source": [
        "#if-else conditions\n",
        "txt = \"Fatih Has - Computer Engineer, Master Degree\"\n",
        "if (\"Has\" in txt):\n",
        "  print(\"Process Success\")\n",
        "elif(\"fh\" in txt):\n",
        "  print(\"else-if object\")\n",
        "else:\n",
        "  print(\"Process ERROR!\")"
      ],
      "metadata": {
        "colab": {
          "base_uri": "https://localhost:8080/"
        },
        "id": "LMvtLfeEgwYQ",
        "outputId": "ba3afb90-c016-42ac-82fa-5198d15dc690"
      },
      "execution_count": 16,
      "outputs": [
        {
          "output_type": "stream",
          "name": "stdout",
          "text": [
            "Process Success\n"
          ]
        }
      ]
    },
    {
      "cell_type": "code",
      "source": [
        "#Slicing String\n",
        "example = \"FatihHAS\"\n",
        "examNum = \"01234567\"\n",
        "#alttaki array üsteki arrayın index numaralarıdır.\n",
        "\n",
        "#Sadece HAS yazılmak istenirse\n",
        "print(example[5:8])"
      ],
      "metadata": {
        "colab": {
          "base_uri": "https://localhost:8080/"
        },
        "id": "gNtl6t9_hLmF",
        "outputId": "a2329c44-49ae-4390-e1aa-dd20f546c6c7"
      },
      "execution_count": 20,
      "outputs": [
        {
          "output_type": "stream",
          "name": "stdout",
          "text": [
            "HAS\n"
          ]
        }
      ]
    },
    {
      "cell_type": "code",
      "source": [
        "#ToUpper and ToLower Case\n",
        "example = \"FatihHas\"\n",
        "print(\"Sadece büyük harf : \" + example.upper())\n",
        "print(\"Sadece küçük harf : \" + example.lower())"
      ],
      "metadata": {
        "colab": {
          "base_uri": "https://localhost:8080/"
        },
        "id": "KvpIqWOviPti",
        "outputId": "06959256-5b26-441b-c576-1bf7b5f34188"
      },
      "execution_count": 22,
      "outputs": [
        {
          "output_type": "stream",
          "name": "stdout",
          "text": [
            "Sadece büyük harf : FATIHHAS\n",
            "Sadece küçük harf : fatihhas\n"
          ]
        }
      ]
    },
    {
      "cell_type": "code",
      "source": [
        "#strip method\n",
        "#başlangıçtaki ve bitişteki boşlukları temizle\n",
        "\n",
        "example = \" Fatih, has \"\n",
        "print(example.strip())\n",
        "\n",
        "#replace method\n",
        "#arrayde veya string de yer değiştir\n",
        "print(example.replace(\"Fatih\",\"Elanur\").strip())\n",
        "\n",
        "#split method\n",
        "#belirtilen karaktere göre diziyi veya nesneleri parçalara ayırır\n",
        "print(example.split(\",\"))\n",
        "print(example.split(\",\")[0])"
      ],
      "metadata": {
        "colab": {
          "base_uri": "https://localhost:8080/"
        },
        "id": "8wkvYHtuiuvf",
        "outputId": "f37f9076-7008-444e-adb6-1bde0483baea"
      },
      "execution_count": 28,
      "outputs": [
        {
          "output_type": "stream",
          "name": "stdout",
          "text": [
            "Fatih, has\n",
            "Elanur, has\n",
            "[' Fatih', ' has ']\n",
            " Fatih\n"
          ]
        }
      ]
    },
    {
      "cell_type": "code",
      "source": [
        "#format string\n",
        "#{} işaretli olan alana ilgili datayı getirir.\n",
        "age = 25\n",
        "weight = 93\n",
        "example = \"Fatih HAS Yaşım {}\"\n",
        "print(example.format(age))\n",
        "\n",
        "#{} işaretlerinin içerisine sayı verilirse sırayla yerleştirilebilir.\n",
        "example = \"Fatih HAS. Yaşım {1}, Kilom {0}\"\n",
        "print(example.format(weight,age))"
      ],
      "metadata": {
        "colab": {
          "base_uri": "https://localhost:8080/"
        },
        "id": "MXpFua88jbse",
        "outputId": "42dcd6dc-71e1-41df-ea83-0f3f9fc269f7"
      },
      "execution_count": 33,
      "outputs": [
        {
          "output_type": "stream",
          "name": "stdout",
          "text": [
            "Fatih HAS Yaşım 25\n",
            "Fatih HAS. Yaşım 25, Kilom 93\n"
          ]
        }
      ]
    },
    {
      "cell_type": "code",
      "source": [
        "#escape characters\n",
        "example = \"Fatih HAS. Yaşım \\\"25\\\". Kilom \\\"93\\\".\"\n",
        "print(example)\n",
        "\n",
        "#kaçış karakteri ile \" karakterin strinde bulunmasını sağladık.\n",
        "\n",
        "#Bunların dışındaki bir string methodu gerekli olursa cheetseet'i incele."
      ],
      "metadata": {
        "colab": {
          "base_uri": "https://localhost:8080/"
        },
        "id": "Ld33f70VkNq6",
        "outputId": "681b1671-4d32-463c-a540-70ad718cf908"
      },
      "execution_count": 36,
      "outputs": [
        {
          "output_type": "stream",
          "name": "stdout",
          "text": [
            "Fatih HAS. Yaşım \"25\". Kilom \"93\".\n"
          ]
        }
      ]
    },
    {
      "cell_type": "code",
      "source": [
        "#is operator\n",
        "x = [\"apple\",\"banana\"]\n",
        "y = [\"apple\",\"banana\"]\n",
        "z=x\n",
        "\n",
        "print(x is z)\n",
        "#returns True because z is the same object as -> x ve z aynı nesne\n",
        "\n",
        "print(x is y)\n",
        "#returns False because x is not the same object as y, even if they have the same content -> x ve y aynı içeriğe sahip olsalar bile farklı y ile aynı nesne değil\n",
        "print(x == y)\n",
        "#to demonstrate the difference between \"is\" and \"==\": this comparison returns True because x is equal to y -> \"is\" ve \"==\" arasındaki farkı karşılaştırmak için"
      ],
      "metadata": {
        "colab": {
          "base_uri": "https://localhost:8080/"
        },
        "id": "eR6R7pjylvT5",
        "outputId": "f0dc3b15-7fa0-49fd-ddf0-611641257b55"
      },
      "execution_count": 39,
      "outputs": [
        {
          "output_type": "stream",
          "name": "stdout",
          "text": [
            "True\n",
            "False\n",
            "True\n"
          ]
        }
      ]
    },
    {
      "cell_type": "code",
      "source": [],
      "metadata": {
        "id": "-jjuz0XwoehI"
      },
      "execution_count": null,
      "outputs": []
    }
  ]
}